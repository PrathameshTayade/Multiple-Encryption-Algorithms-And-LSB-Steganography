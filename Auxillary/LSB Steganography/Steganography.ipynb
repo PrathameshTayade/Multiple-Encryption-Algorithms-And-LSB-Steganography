{
 "cells": [
  {
   "cell_type": "code",
   "execution_count": 1,
   "metadata": {},
   "outputs": [],
   "source": [
    "from skimage.io import * \n",
    "import random\n",
    "import numpy as np"
   ]
  },
  {
   "cell_type": "code",
   "execution_count": 2,
   "metadata": {},
   "outputs": [],
   "source": [
    "img = imread(\"white.jpg\")"
   ]
  },
  {
   "cell_type": "code",
   "execution_count": 3,
   "metadata": {},
   "outputs": [
    {
     "name": "stderr",
     "output_type": "stream",
     "text": [
      "C:\\Users\\hp\\anaconda3\\lib\\site-packages\\skimage\\io\\_plugins\\matplotlib_plugin.py:150: UserWarning: Low image data range; displaying image with stretched contrast.\n",
      "  lo, hi, cmap = _get_display_range(image)\n"
     ]
    },
    {
     "data": {
      "text/plain": [
       "<matplotlib.image.AxesImage at 0x2938a801940>"
      ]
     },
     "execution_count": 3,
     "metadata": {},
     "output_type": "execute_result"
    },
    {
     "data": {
      "image/png": "[encoded data removed]",
      "text/plain": [
       "<Figure size 432x288 with 2 Axes>"
      ]
     },
     "metadata": {
      "needs_background": "light"
     },
     "output_type": "display_data"
    }
   ],
   "source": [
    "imshow(img)"
   ]
  },
  {
   "cell_type": "code",
   "execution_count": 4,
   "metadata": {},
   "outputs": [
    {
     "data": {
      "text/plain": [
       "(172, 294, 3)"
      ]
     },
     "execution_count": 4,
     "metadata": {},
     "output_type": "execute_result"
    }
   ],
   "source": [
    "img.shape"
   ]
  },
  {
   "cell_type": "code",
   "execution_count": 5,
   "metadata": {},
   "outputs": [],
   "source": [
    "linearimage = img.reshape(img.shape[0]*img.shape[1] , img.shape[2])"
   ]
  },
  {
   "cell_type": "code",
   "execution_count": 6,
   "metadata": {},
   "outputs": [
    {
     "data": {
      "text/plain": [
       "(50568, 3)"
      ]
     },
     "execution_count": 6,
     "metadata": {},
     "output_type": "execute_result"
    }
   ],
   "source": [
    "linearimage.shape"
   ]
  },
  {
   "cell_type": "code",
   "execution_count": 7,
   "metadata": {},
   "outputs": [
    {
     "data": {
      "text/plain": [
       "<matplotlib.image.AxesImage at 0x2938a920340>"
      ]
     },
     "execution_count": 7,
     "metadata": {},
     "output_type": "execute_result"
    },
    {
     "data": {
      "image/png": "[encoded data removed]",
      "text/plain": [
       "<Figure size 432x288 with 2 Axes>"
      ]
     },
     "metadata": {
      "needs_background": "light"
     },
     "output_type": "display_data"
    }
   ],
   "source": [
    "imshow(linearimage)"
   ]
  },
  {
   "cell_type": "code",
   "execution_count": 8,
   "metadata": {},
   "outputs": [],
   "source": [
    "s = \"ABCDEFGHZ\"\n"
   ]
  },
  {
   "cell_type": "code",
   "execution_count": 9,
   "metadata": {},
   "outputs": [],
   "source": [
    "bt = \"\"\n",
    "for i in s:\n",
    "    bt = bt + bin(ord(i))[2:].zfill(8)"
   ]
  },
  {
   "cell_type": "code",
   "execution_count": 10,
   "metadata": {},
   "outputs": [
    {
     "data": {
      "text/plain": [
       "'010000010100001001000011010001000100010101000110010001110100100001011010'"
      ]
     },
     "execution_count": 10,
     "metadata": {},
     "output_type": "execute_result"
    }
   ],
   "source": [
    "bt"
   ]
  },
  {
   "cell_type": "code",
   "execution_count": 11,
   "metadata": {},
   "outputs": [
    {
     "data": {
      "text/plain": [
       "72"
      ]
     },
     "execution_count": 11,
     "metadata": {},
     "output_type": "execute_result"
    }
   ],
   "source": [
    "len(bt)"
   ]
  },
  {
   "cell_type": "code",
   "execution_count": 12,
   "metadata": {},
   "outputs": [
    {
     "data": {
      "text/plain": [
       "numpy.ndarray"
      ]
     },
     "execution_count": 12,
     "metadata": {},
     "output_type": "execute_result"
    }
   ],
   "source": [
    "type(linearimage)\n",
    "    "
   ]
  },
  {
   "cell_type": "code",
   "execution_count": 13,
   "metadata": {},
   "outputs": [],
   "source": [
    "linearimage = np.array(linearimage)"
   ]
  },
  {
   "cell_type": "code",
   "execution_count": null,
   "metadata": {},
   "outputs": [],
   "source": []
  },
  {
   "cell_type": "code",
   "execution_count": 14,
   "metadata": {},
   "outputs": [
    {
     "data": {
      "text/plain": [
       "array([[255, 255, 255],\n",
       "       [255, 255, 255],\n",
       "       [255, 255, 255],\n",
       "       [255, 255, 255],\n",
       "       [255, 255, 255],\n",
       "       [255, 255, 255],\n",
       "       [255, 255, 255],\n",
       "       [255, 255, 255]], dtype=uint8)"
      ]
     },
     "execution_count": 14,
     "metadata": {},
     "output_type": "execute_result"
    }
   ],
   "source": [
    "linearimage[0:8]"
   ]
  },
  {
   "cell_type": "code",
   "execution_count": null,
   "metadata": {},
   "outputs": [],
   "source": []
  },
  {
   "cell_type": "code",
   "execution_count": null,
   "metadata": {},
   "outputs": [],
   "source": []
  },
  {
   "cell_type": "code",
   "execution_count": null,
   "metadata": {},
   "outputs": [],
   "source": []
  },
  {
   "cell_type": "code",
   "execution_count": 15,
   "metadata": {},
   "outputs": [],
   "source": [
    "rorgorb = random.randint(0,2)"
   ]
  },
  {
   "cell_type": "code",
   "execution_count": 16,
   "metadata": {},
   "outputs": [
    {
     "data": {
      "text/plain": [
       "1"
      ]
     },
     "execution_count": 16,
     "metadata": {},
     "output_type": "execute_result"
    }
   ],
   "source": [
    "rorgorb"
   ]
  },
  {
   "cell_type": "code",
   "execution_count": 17,
   "metadata": {},
   "outputs": [
    {
     "name": "stdout",
     "output_type": "stream",
     "text": [
      "[[255 255 255]\n",
      " [255 255 255]\n",
      " [255 255 255]\n",
      " [255 255 255]\n",
      " [255 255 255]\n",
      " [255 255 255]\n",
      " [255 255 255]\n",
      " [255 255 255]]\n",
      "Before:  [255 255 255]\n",
      "After:  [255 254 255]\n",
      "Before:  [255 255 255]\n",
      "After:  [255 255 255]\n",
      "Before:  [255 255 255]\n",
      "After:  [255 254 255]\n",
      "Before:  [255 255 255]\n",
      "After:  [255 254 255]\n",
      "Before:  [255 255 255]\n",
      "After:  [255 254 255]\n",
      "Before:  [255 255 255]\n",
      "After:  [255 254 255]\n",
      "Before:  [255 255 255]\n",
      "After:  [255 254 255]\n",
      "Before:  [255 255 255]\n",
      "After:  [255 255 255]\n",
      "Before:  [255 255 255]\n",
      "After:  [255 254 255]\n",
      "Before:  [255 255 255]\n",
      "After:  [255 255 255]\n",
      "Before:  [255 255 255]\n",
      "After:  [255 254 255]\n",
      "Before:  [255 255 255]\n",
      "After:  [255 254 255]\n",
      "Before:  [255 255 255]\n",
      "After:  [255 254 255]\n",
      "Before:  [255 255 255]\n",
      "After:  [255 254 255]\n",
      "Before:  [255 255 255]\n",
      "After:  [255 255 255]\n",
      "Before:  [255 255 255]\n",
      "After:  [255 254 255]\n",
      "Before:  [255 255 255]\n",
      "After:  [255 254 255]\n",
      "Before:  [255 255 255]\n",
      "After:  [255 255 255]\n",
      "Before:  [255 255 255]\n",
      "After:  [255 254 255]\n",
      "Before:  [255 255 255]\n",
      "After:  [255 254 255]\n",
      "Before:  [255 255 255]\n",
      "After:  [255 254 255]\n",
      "Before:  [255 255 255]\n",
      "After:  [255 254 255]\n",
      "Before:  [255 255 255]\n",
      "After:  [255 255 255]\n",
      "Before:  [255 255 255]\n",
      "After:  [255 255 255]\n",
      "Before:  [255 255 255]\n",
      "After:  [255 254 255]\n",
      "Before:  [255 255 255]\n",
      "After:  [255 255 255]\n",
      "Before:  [255 255 255]\n",
      "After:  [255 254 255]\n",
      "Before:  [255 255 255]\n",
      "After:  [255 254 255]\n",
      "Before:  [255 255 255]\n",
      "After:  [255 254 255]\n",
      "Before:  [255 255 255]\n",
      "After:  [255 255 255]\n",
      "Before:  [255 255 255]\n",
      "After:  [255 254 255]\n",
      "Before:  [255 255 255]\n",
      "After:  [255 254 255]\n",
      "Before:  [252 252 252]\n",
      "After:  [252 252 252]\n",
      "Before:  [255 255 255]\n",
      "After:  [255 255 255]\n",
      "Before:  [255 255 255]\n",
      "After:  [255 254 255]\n",
      "Before:  [253 253 253]\n",
      "After:  [253 252 253]\n",
      "Before:  [248 248 248]\n",
      "After:  [248 248 248]\n",
      "Before:  [246 246 246]\n",
      "After:  [246 247 246]\n",
      "Before:  [252 252 252]\n",
      "After:  [252 252 252]\n",
      "Before:  [255 255 255]\n",
      "After:  [255 255 255]\n",
      "Before:  [255 255 255]\n",
      "After:  [255 254 255]\n",
      "Before:  [255 255 255]\n",
      "After:  [255 255 255]\n",
      "Before:  [255 255 255]\n",
      "After:  [255 254 255]\n",
      "Before:  [255 255 255]\n",
      "After:  [255 254 255]\n",
      "Before:  [255 255 255]\n",
      "After:  [255 254 255]\n",
      "Before:  [255 255 255]\n",
      "After:  [255 255 255]\n",
      "Before:  [255 255 255]\n",
      "After:  [255 255 255]\n",
      "Before:  [255 255 255]\n",
      "After:  [255 254 255]\n",
      "Before:  [255 255 255]\n",
      "After:  [255 254 255]\n",
      "Before:  [255 255 255]\n",
      "After:  [255 255 255]\n",
      "Before:  [255 255 255]\n",
      "After:  [255 254 255]\n",
      "Before:  [255 255 255]\n",
      "After:  [255 254 255]\n",
      "Before:  [255 255 255]\n",
      "After:  [255 254 255]\n",
      "Before:  [255 255 255]\n",
      "After:  [255 255 255]\n",
      "Before:  [255 255 255]\n",
      "After:  [255 255 255]\n",
      "Before:  [255 255 255]\n",
      "After:  [255 255 255]\n",
      "Before:  [255 255 255]\n",
      "After:  [255 254 255]\n",
      "Before:  [255 255 255]\n",
      "After:  [255 255 255]\n",
      "Before:  [255 255 255]\n",
      "After:  [255 254 255]\n",
      "Before:  [255 255 255]\n",
      "After:  [255 254 255]\n",
      "Before:  [255 255 255]\n",
      "After:  [255 255 255]\n",
      "Before:  [255 255 255]\n",
      "After:  [255 254 255]\n",
      "Before:  [255 255 255]\n",
      "After:  [255 254 255]\n",
      "Before:  [255 255 255]\n",
      "After:  [255 254 255]\n",
      "Before:  [255 255 255]\n",
      "After:  [255 254 255]\n",
      "Before:  [255 255 255]\n",
      "After:  [255 255 255]\n",
      "Before:  [255 255 255]\n",
      "After:  [255 254 255]\n",
      "Before:  [255 255 255]\n",
      "After:  [255 255 255]\n",
      "Before:  [255 255 255]\n",
      "After:  [255 255 255]\n",
      "Before:  [255 255 255]\n",
      "After:  [255 254 255]\n",
      "Before:  [255 255 255]\n",
      "After:  [255 255 255]\n",
      "Before:  [255 255 255]\n",
      "After:  [255 254 255]\n",
      "[[255 254 255]\n",
      " [255 255 255]\n",
      " [255 254 255]\n",
      " [255 254 255]\n",
      " [255 254 255]\n",
      " [255 254 255]\n",
      " [255 254 255]\n",
      " [255 255 255]]\n"
     ]
    }
   ],
   "source": [
    "\n",
    "# for char in s:\n",
    "#     print(bin(ord(char))[2:].zfill(8))\n",
    "#     for bit,pixle in zip(bin(ord(char))[2:].zfill(8),linearimage):\n",
    "#         print(bit)\n",
    "#         print(pixle)\n",
    "#         print(\"before\",pixle)\n",
    "#         if bit == '0' and pixle[rorgorb]&1==1:\n",
    "#             pixle[rorgorb] = pixle[rorgorb]-1\n",
    "#         elif bit == '1' and pixle[rorgorb]&1==0:\n",
    "#             pixle[rorgorb] = pixle[rorgorb]+1\n",
    "#         print(\"after\",pixle)    \n",
    "\n",
    "print(linearimage[0:8])\n",
    "\n",
    "for (i,pixle),bit in zip(enumerate(linearimage),bt):\n",
    "    \n",
    "    print(\"Before: \",linearimage[i])\n",
    "    if bit == \"0\" and linearimage[i][rorgorb]&1==1:\n",
    "        linearimage[i][rorgorb] = linearimage[i][rorgorb]-1\n",
    "    elif bit == \"1\" and linearimage[i][rorgorb]&1==0:\n",
    "        linearimage[i][rorgorb] = linearimage[i][rorgorb]+1\n",
    "    print(\"After: \",linearimage[i])    \n",
    "\n",
    "        \n",
    "        \n",
    "        \n",
    "print(linearimage[0:8])\n",
    "    \n",
    "        \n",
    " \n",
    "        \n",
    "            \n",
    "        \n",
    "   \n",
    "\n",
    "    \n",
    "    \n",
    "    "
   ]
  },
  {
   "cell_type": "code",
   "execution_count": 18,
   "metadata": {},
   "outputs": [
    {
     "data": {
      "text/plain": [
       "array([[255, 254, 255],\n",
       "       [255, 255, 255],\n",
       "       [255, 254, 255],\n",
       "       [255, 254, 255],\n",
       "       [255, 254, 255],\n",
       "       [255, 254, 255],\n",
       "       [255, 254, 255],\n",
       "       [255, 255, 255]], dtype=uint8)"
      ]
     },
     "execution_count": 18,
     "metadata": {},
     "output_type": "execute_result"
    }
   ],
   "source": [
    "linearimage[0:8]"
   ]
  },
  {
   "cell_type": "code",
   "execution_count": null,
   "metadata": {},
   "outputs": [],
   "source": []
  },
  {
   "cell_type": "code",
   "execution_count": 19,
   "metadata": {},
   "outputs": [
    {
     "data": {
      "text/plain": [
       "<matplotlib.image.AxesImage at 0x2938a9beeb0>"
      ]
     },
     "execution_count": 19,
     "metadata": {},
     "output_type": "execute_result"
    },
    {
     "data": {
      "image/png": "[encoded data removed]",
      "text/plain": [
       "<Figure size 432x288 with 2 Axes>"
      ]
     },
     "metadata": {
      "needs_background": "light"
     },
     "output_type": "display_data"
    }
   ],
   "source": [
    "imshow(linearimage.reshape(img.shape[0],img.shape[1],img.shape[2])) "
   ]
  },
  {
   "cell_type": "code",
   "execution_count": null,
   "metadata": {},
   "outputs": [],
   "source": []
  },
  {
   "cell_type": "code",
   "execution_count": 20,
   "metadata": {},
   "outputs": [
    {
     "name": "stdout",
     "output_type": "stream",
     "text": [
      "[255 254 255]\n",
      "[255 255 255]\n",
      "[255 254 255]\n",
      "[255 254 255]\n",
      "[255 254 255]\n",
      "[255 254 255]\n",
      "[255 254 255]\n",
      "[255 255 255]\n",
      "[255 254 255]\n",
      "01000001\n",
      "[255 255 255]\n",
      "[255 254 255]\n",
      "[255 254 255]\n",
      "[255 254 255]\n",
      "[255 254 255]\n",
      "[255 255 255]\n",
      "[255 254 255]\n",
      "[255 254 255]\n",
      "01000010\n",
      "[255 255 255]\n",
      "[255 254 255]\n",
      "[255 254 255]\n",
      "[255 254 255]\n",
      "[255 254 255]\n",
      "[255 255 255]\n",
      "[255 255 255]\n",
      "[255 254 255]\n",
      "01000011\n",
      "[255 255 255]\n",
      "[255 254 255]\n",
      "[255 254 255]\n",
      "[255 254 255]\n",
      "[255 255 255]\n",
      "[255 254 255]\n",
      "[255 254 255]\n",
      "[252 252 252]\n",
      "01000100\n",
      "[255 255 255]\n",
      "[255 254 255]\n",
      "[253 252 253]\n",
      "[248 248 248]\n",
      "[246 247 246]\n",
      "[252 252 252]\n",
      "[255 255 255]\n",
      "[255 254 255]\n",
      "01000101\n",
      "[255 255 255]\n",
      "[255 254 255]\n",
      "[255 254 255]\n",
      "[255 254 255]\n",
      "[255 255 255]\n",
      "[255 255 255]\n",
      "[255 254 255]\n",
      "[255 254 255]\n",
      "01000110\n",
      "[255 255 255]\n",
      "[255 254 255]\n",
      "[255 254 255]\n",
      "[255 254 255]\n",
      "[255 255 255]\n",
      "[255 255 255]\n",
      "[255 255 255]\n",
      "[255 254 255]\n",
      "01000111\n",
      "[255 255 255]\n",
      "[255 254 255]\n",
      "[255 254 255]\n",
      "[255 255 255]\n",
      "[255 254 255]\n",
      "[255 254 255]\n",
      "[255 254 255]\n",
      "[255 254 255]\n",
      "01001000\n",
      "[255 255 255]\n",
      "[255 254 255]\n",
      "[255 255 255]\n",
      "[255 255 255]\n",
      "[255 254 255]\n",
      "[255 255 255]\n",
      "[255 254 255]\n",
      "[255 255 255]\n",
      "01011010\n",
      "[255 255 255]\n",
      "[255 255 255]\n",
      "[255 255 255]\n",
      "[255 255 255]\n",
      "[255 255 255]\n",
      "[255 255 255]\n",
      "[255 255 255]\n"
     ]
    }
   ],
   "source": [
    "result = \"\"\n",
    "bitstring = \"\"\n",
    "count = 0\n",
    "for pixle in range(80):\n",
    "    print(linearimage[pixle])\n",
    "    if count == 8:\n",
    "        print(bitstring)\n",
    "        result = result+ chr(int(bitstring,2))\n",
    "        count = 0\n",
    "        bitstring = \"\"\n",
    "   \n",
    "    if linearimage[pixle][rorgorb]&1:\n",
    "        bitstring = bitstring + '1'\n",
    "        \n",
    "    else :\n",
    "        bitstring = bitstring + '0'\n",
    "    count = count + 1    \n",
    "        \n",
    "    \n",
    "    \n",
    "\n",
    "    \n",
    "    "
   ]
  },
  {
   "cell_type": "code",
   "execution_count": 21,
   "metadata": {},
   "outputs": [
    {
     "name": "stdout",
     "output_type": "stream",
     "text": [
      "ABCDEFGHZ\n"
     ]
    }
   ],
   "source": [
    "print(result)"
   ]
  },
  {
   "cell_type": "code",
   "execution_count": 27,
   "metadata": {},
   "outputs": [
    {
     "name": "stderr",
     "output_type": "stream",
     "text": [
      "<ipython-input-27-e1555598b538>:1: UserWarning: stego.jpg is a low contrast image\n",
      "  imsave(\"stego.jpg\",linearimage.reshape(img.shape[0],img.shape[1],img.shape[2]))\n"
     ]
    }
   ],
   "source": [
    "\n",
    "imsave(\"stego.jpg\",linearimage.reshape(img.shape[0],img.shape[1],img.shape[2]))"
   ]
  },
  {
   "cell_type": "code",
   "execution_count": 22,
   "metadata": {},
   "outputs": [],
   "source": [
    "k = \"asdfaf\"\n",
    "k = \"\".join([bin(ord(i))[2:].zfill(8) for i in k])"
   ]
  },
  {
   "cell_type": "code",
   "execution_count": 36,
   "metadata": {},
   "outputs": [
    {
     "data": {
      "text/plain": [
       "'.jpg'"
      ]
     },
     "execution_count": 36,
     "metadata": {},
     "output_type": "execute_result"
    }
   ],
   "source": [
    "import pathlib\n",
    "pathlib.Path('//cover.jpg').suffix"
   ]
  },
  {
   "cell_type": "code",
   "execution_count": 38,
   "metadata": {},
   "outputs": [
    {
     "name": "stdout",
     "output_type": "stream",
     "text": [
      "0\n",
      "1\n",
      "2\n",
      "3\n",
      "4\n",
      "5\n",
      "6\n"
     ]
    }
   ],
   "source": [
    "h = [1,2,3,4,5,6,7,8,9,0]\n",
    "for i,l in enumerate(h[3:]):\n",
    "    \n",
    "    print(i)"
   ]
  },
  {
   "cell_type": "code",
   "execution_count": 40,
   "metadata": {},
   "outputs": [
    {
     "name": "stdout",
     "output_type": "stream",
     "text": [
      "0\n",
      "1\n",
      "2\n",
      "3\n",
      "4\n",
      "5\n",
      "6\n",
      "7\n",
      "8\n",
      "9\n",
      "10\n",
      "11\n",
      "12\n",
      "13\n",
      "14\n",
      "15\n",
      "16\n",
      "17\n",
      "18\n",
      "19\n",
      "20\n",
      "21\n",
      "22\n",
      "23\n",
      "24\n",
      "25\n",
      "26\n",
      "27\n",
      "28\n",
      "29\n",
      "30\n",
      "31\n",
      "32\n",
      "33\n",
      "34\n",
      "35\n",
      "36\n",
      "37\n",
      "38\n",
      "39\n",
      "40\n",
      "41\n",
      "42\n",
      "43\n",
      "44\n",
      "45\n",
      "46\n",
      "47\n",
      "48\n",
      "49\n",
      "50\n",
      "51\n",
      "52\n",
      "53\n",
      "54\n",
      "55\n",
      "56\n",
      "57\n",
      "58\n",
      "59\n",
      "60\n",
      "61\n",
      "62\n",
      "63\n",
      "64\n",
      "65\n",
      "66\n",
      "67\n",
      "68\n",
      "69\n",
      "70\n",
      "71\n"
     ]
    }
   ],
   "source": [
    "for i,bit in zip(range(500),bt): \n",
    "    print(i)"
   ]
  },
  {
   "cell_type": "code",
   "execution_count": 94,
   "metadata": {},
   "outputs": [],
   "source": [
    "ls = [255,255,255,255]\n"
   ]
  },
  {
   "cell_type": "code",
   "execution_count": 95,
   "metadata": {},
   "outputs": [],
   "source": [
    "ls = [ls] * 900"
   ]
  },
  {
   "cell_type": "code",
   "execution_count": 96,
   "metadata": {},
   "outputs": [],
   "source": [
    "ls = np.array(ls)"
   ]
  },
  {
   "cell_type": "code",
   "execution_count": 97,
   "metadata": {},
   "outputs": [
    {
     "data": {
      "text/plain": [
       "(900, 4)"
      ]
     },
     "execution_count": 97,
     "metadata": {},
     "output_type": "execute_result"
    }
   ],
   "source": [
    "ls.shape"
   ]
  },
  {
   "cell_type": "code",
   "execution_count": 98,
   "metadata": {},
   "outputs": [],
   "source": [
    "ls = [ls] * 900"
   ]
  },
  {
   "cell_type": "code",
   "execution_count": 101,
   "metadata": {},
   "outputs": [],
   "source": [
    "ls = np.array(ls)"
   ]
  },
  {
   "cell_type": "code",
   "execution_count": 102,
   "metadata": {},
   "outputs": [
    {
     "data": {
      "text/plain": [
       "(900, 900, 4)"
      ]
     },
     "execution_count": 102,
     "metadata": {},
     "output_type": "execute_result"
    }
   ],
   "source": [
    "ls.shape"
   ]
  },
  {
   "cell_type": "code",
   "execution_count": 104,
   "metadata": {},
   "outputs": [
    {
     "name": "stderr",
     "output_type": "stream",
     "text": [
      "<ipython-input-104-31302acbf33e>:1: UserWarning: white.png is a low contrast image\n",
      "  imsave(\"white.png\",ls)\n"
     ]
    }
   ],
   "source": [
    "imsave(\"white.png\",ls)"
   ]
  },
  {
   "cell_type": "code",
   "execution_count": 196,
   "metadata": {},
   "outputs": [],
   "source": [
    "ls = [0,0,0,256]"
   ]
  },
  {
   "cell_type": "code",
   "execution_count": 197,
   "metadata": {},
   "outputs": [],
   "source": [
    "ls = [ls] * 900"
   ]
  },
  {
   "cell_type": "code",
   "execution_count": 198,
   "metadata": {},
   "outputs": [],
   "source": [
    "ls = np.array(ls)"
   ]
  },
  {
   "cell_type": "code",
   "execution_count": 199,
   "metadata": {},
   "outputs": [
    {
     "data": {
      "text/plain": [
       "(900, 4)"
      ]
     },
     "execution_count": 199,
     "metadata": {},
     "output_type": "execute_result"
    }
   ],
   "source": [
    "ls.shape"
   ]
  },
  {
   "cell_type": "code",
   "execution_count": 200,
   "metadata": {},
   "outputs": [],
   "source": [
    "ls = [ls] * 900"
   ]
  },
  {
   "cell_type": "code",
   "execution_count": 201,
   "metadata": {},
   "outputs": [],
   "source": [
    "ls = np.array(ls)"
   ]
  },
  {
   "cell_type": "code",
   "execution_count": 202,
   "metadata": {},
   "outputs": [
    {
     "data": {
      "text/plain": [
       "(900, 900, 4)"
      ]
     },
     "execution_count": 202,
     "metadata": {},
     "output_type": "execute_result"
    }
   ],
   "source": [
    "ls.shape"
   ]
  },
  {
   "cell_type": "code",
   "execution_count": 203,
   "metadata": {},
   "outputs": [
    {
     "data": {
      "text/plain": [
       "array([[[  0,   0,   0, 256],\n",
       "        [  0,   0,   0, 256],\n",
       "        [  0,   0,   0, 256],\n",
       "        ...,\n",
       "        [  0,   0,   0, 256],\n",
       "        [  0,   0,   0, 256],\n",
       "        [  0,   0,   0, 256]],\n",
       "\n",
       "       [[  0,   0,   0, 256],\n",
       "        [  0,   0,   0, 256],\n",
       "        [  0,   0,   0, 256],\n",
       "        ...,\n",
       "        [  0,   0,   0, 256],\n",
       "        [  0,   0,   0, 256],\n",
       "        [  0,   0,   0, 256]],\n",
       "\n",
       "       [[  0,   0,   0, 256],\n",
       "        [  0,   0,   0, 256],\n",
       "        [  0,   0,   0, 256],\n",
       "        ...,\n",
       "        [  0,   0,   0, 256],\n",
       "        [  0,   0,   0, 256],\n",
       "        [  0,   0,   0, 256]],\n",
       "\n",
       "       ...,\n",
       "\n",
       "       [[  0,   0,   0, 256],\n",
       "        [  0,   0,   0, 256],\n",
       "        [  0,   0,   0, 256],\n",
       "        ...,\n",
       "        [  0,   0,   0, 256],\n",
       "        [  0,   0,   0, 256],\n",
       "        [  0,   0,   0, 256]],\n",
       "\n",
       "       [[  0,   0,   0, 256],\n",
       "        [  0,   0,   0, 256],\n",
       "        [  0,   0,   0, 256],\n",
       "        ...,\n",
       "        [  0,   0,   0, 256],\n",
       "        [  0,   0,   0, 256],\n",
       "        [  0,   0,   0, 256]],\n",
       "\n",
       "       [[  0,   0,   0, 256],\n",
       "        [  0,   0,   0, 256],\n",
       "        [  0,   0,   0, 256],\n",
       "        ...,\n",
       "        [  0,   0,   0, 256],\n",
       "        [  0,   0,   0, 256],\n",
       "        [  0,   0,   0, 256]]])"
      ]
     },
     "execution_count": 203,
     "metadata": {},
     "output_type": "execute_result"
    }
   ],
   "source": [
    "ls"
   ]
  },
  {
   "cell_type": "code",
   "execution_count": 204,
   "metadata": {},
   "outputs": [
    {
     "name": "stderr",
     "output_type": "stream",
     "text": [
      "<ipython-input-204-acdeddca7658>:1: UserWarning: black.png is a low contrast image\n",
      "  imsave(\"black.png\",ls)\n",
      "Lossy conversion from int32 to uint8. Range [0, 256]. Convert image to uint8 prior to saving to suppress this warning.\n"
     ]
    }
   ],
   "source": [
    "imsave(\"black.png\",ls)"
   ]
  },
  {
   "cell_type": "code",
   "execution_count": null,
   "metadata": {},
   "outputs": [],
   "source": []
  },
  {
   "cell_type": "code",
   "execution_count": null,
   "metadata": {},
   "outputs": [],
   "source": []
  },
  {
   "cell_type": "code",
   "execution_count": null,
   "metadata": {},
   "outputs": [],
   "source": []
  },
  {
   "cell_type": "code",
   "execution_count": null,
   "metadata": {},
   "outputs": [],
   "source": []
  }
 ],
 "metadata": {
  "kernelspec": {
   "display_name": "Python 3",
   "language": "python",
   "name": "python3"
  },
  "language_info": {
   "codemirror_mode": {
    "name": "ipython",
    "version": 3
   },
   "file_extension": ".py",
   "mimetype": "text/x-python",
   "name": "python",
   "nbconvert_exporter": "python",
   "pygments_lexer": "ipython3",
   "version": "3.8.3"
  }
 },
 "nbformat": 4,
 "nbformat_minor": 4
}
