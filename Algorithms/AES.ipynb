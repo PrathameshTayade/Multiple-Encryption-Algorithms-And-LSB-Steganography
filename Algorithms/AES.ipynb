{
 "cells": [
  {
   "cell_type": "code",
   "execution_count": null,
   "metadata": {},
   "outputs": [],
   "source": [
    "class AES:\n",
    "    def Key_Generation(size):\n",
    "        key = os.urandom(size)\n",
    "        return binascii.hexlify(key)\n",
    "    def Generate_Key_State(key):\n",
    "        key_string  = str(key)\n",
    "        key_string = key_string[2:-1]\n",
    "        ls = []\n",
    "        for i in range(0,len(key_string),2):\n",
    "            ls.append(key_string[i] + key_string[i+1])\n",
    "        \n",
    "        key_state = np.array(ls).reshape(4,4)\n",
    "        key_state = np.transpose(key_state)\n",
    "        return key_state   \n",
    "    \n",
    "    \n",
    "    "
   ]
  }
 ],
 "metadata": {
  "kernelspec": {
   "display_name": "Python 3",
   "language": "python",
   "name": "python3"
  },
  "language_info": {
   "codemirror_mode": {
    "name": "ipython",
    "version": 3
   },
   "file_extension": ".py",
   "mimetype": "text/x-python",
   "name": "python",
   "nbconvert_exporter": "python",
   "pygments_lexer": "ipython3",
   "version": "3.8.3"
  }
 },
 "nbformat": 4,
 "nbformat_minor": 4
}
