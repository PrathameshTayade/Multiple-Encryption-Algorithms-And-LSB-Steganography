{
 "cells": [
  {
   "cell_type": "code",
   "execution_count": 17,
   "metadata": {},
   "outputs": [],
   "source": [
    "import  sys\n",
    "import random \n",
    "import os\n",
    "from base64 import *\n",
    "import binascii\n",
    "import numpy as np\n",
    "import math\n"
   ]
  },
  {
   "cell_type": "code",
   "execution_count": 2,
   "metadata": {},
   "outputs": [],
   "source": [
    "def Key_Generation(size):\n",
    "    key = os.urandom(size)\n",
    "    return binascii.hexlify(key)\n"
   ]
  },
  {
   "cell_type": "code",
   "execution_count": 3,
   "metadata": {},
   "outputs": [],
   "source": [
    "def Generate_Key_State(key):\n",
    "    key_string  = str(key)\n",
    "    key_string = key_string[2:-1]\n",
    "    ls = []\n",
    "    for i in range(0,len(key_string),2):\n",
    "        ls.append(key_string[i] + key_string[i+1])\n",
    "        \n",
    "    key_state = np.array(ls).reshape(4,4)\n",
    "    key_state = np.transpose(key_state)\n",
    "    return key_state   \n",
    "    \n",
    "    "
   ]
  },
  {
   "cell_type": "code",
   "execution_count": 4,
   "metadata": {},
   "outputs": [],
   "source": [
    "def Generate_subkey(prev_key):\n",
    "    last_column = np.array(prev_key[:,-1])\n",
    "    last_column = np.transpose(last_column)\n",
    "    last_column = np.array(last_column)\n",
    "    last_column = last_column.reshape(4,1)\n",
    "    return last_column"
   ]
  },
  {
   "cell_type": "code",
   "execution_count": 5,
   "metadata": {},
   "outputs": [],
   "source": [
    "round_constant = np.array([[0x01,0x02, 0x04 ,0x08,0x10, 0x20, 0x40, 0x80, 0x1B, 0x36],\n",
    "                [0x00,0x00,0x00,0x00,0x00,0x00,0x00,0x00,0x00,0x00],\n",
    "                   [0x00,0x00,0x00,0x00,0x00,0x00,0x00,0x00,0x00,0x00],\n",
    "                   [0x00,0x00,0x00,0x00,0x00,0x00,0x00,0x00,0x00,0x00],\n",
    "                  \n",
    "                 ])"
   ]
  },
  {
   "cell_type": "code",
   "execution_count": 6,
   "metadata": {},
   "outputs": [],
   "source": [
    "def rotword(last_column):\n",
    "    rot = last_column[1:]\n",
    "\n",
    "    rot = np.append(rot,last_column[0])\n",
    "    rot = np.array(rot)\n",
    "    rot = rot.reshape(4,1)\n",
    "    return rot\n",
    "    \n",
    "    \n",
    "    \n",
    "    \n",
    "    "
   ]
  },
  {
   "cell_type": "code",
   "execution_count": 7,
   "metadata": {},
   "outputs": [],
   "source": [
    "s_box_values = [\n",
    "        [0x63, 0x7c, 0x77, 0x7b, 0xf2, 0x6b, 0x6f, 0xc5, 0x30, 0x01, 0x67, 0x2b, 0xfe, 0xd7, 0xab, 0x76],\n",
    "        [0xca, 0x82, 0xc9, 0x7d, 0xfa, 0x59, 0x47, 0xf0, 0xad, 0xd4, 0xa2, 0xaf, 0x9c, 0xa4, 0x72, 0xc0],\n",
    "        [0xb7, 0xfd, 0x93, 0x26, 0x36, 0x3f, 0xf7, 0xcc, 0x34, 0xa5, 0xe5, 0xf1, 0x71, 0xd8, 0x31, 0x15],\n",
    "        [0x04, 0xc7, 0x23, 0xc3, 0x18, 0x96, 0x05, 0x9a, 0x07, 0x12, 0x80, 0xe2, 0xeb, 0x27, 0xb2, 0x75],\n",
    "        [0x09, 0x83, 0x2c, 0x1a, 0x1b, 0x6e, 0x5a, 0xa0, 0x52, 0x3b, 0xd6, 0xb3, 0x29, 0xe3, 0x2f, 0x84],\n",
    "        [0x53, 0xd1, 0x00, 0xed, 0x20, 0xfc, 0xb1, 0x5b, 0x6a, 0xcb, 0xbe, 0x39, 0x4a, 0x4c, 0x58, 0xcf],\n",
    "        [0xd0, 0xef, 0xaa, 0xfb, 0x43, 0x4d, 0x33, 0x85, 0x45, 0xf9, 0x02, 0x7f, 0x50, 0x3c, 0x9f, 0xa8],\n",
    "        [0x51, 0xa3, 0x40, 0x8f, 0x92, 0x9d, 0x38, 0xf5, 0xbc, 0xb6, 0xda, 0x21, 0x10, 0xff, 0xf3, 0xd2],\n",
    "        [0xcd, 0x0c, 0x13, 0xec, 0x5f, 0x97, 0x44, 0x17, 0xc4, 0xa7, 0x7e, 0x3d, 0x64, 0x5d, 0x19, 0x73],\n",
    "        [0x60, 0x81, 0x4f, 0xdc, 0x22, 0x2a, 0x90, 0x88, 0x46, 0xee, 0xb8, 0x14, 0xde, 0x5e, 0x0b, 0xdb],\n",
    "        [0xe0, 0x32, 0x3a, 0x0a, 0x49, 0x06, 0x24, 0x5c, 0xc2, 0xd3, 0xac, 0x62, 0x91, 0x95, 0xe4, 0x79],\n",
    "        [0xe7, 0xc8, 0x37, 0x6d, 0x8d, 0xd5, 0x4e, 0xa9, 0x6c, 0x56, 0xf4, 0xea, 0x65, 0x7a, 0xae, 0x08],\n",
    "        [0xba, 0x78, 0x25, 0x2e, 0x1c, 0xa6, 0xb4, 0xc6, 0xe8, 0xdd, 0x74, 0x1f, 0x4b, 0xbd, 0x8b, 0x8a],\n",
    "        [0x70, 0x3e, 0xb5, 0x66, 0x48, 0x03, 0xf6, 0x0e, 0x61, 0x35, 0x57, 0xb9, 0x86, 0xc1, 0x1d, 0x9e],\n",
    "        [0xe1, 0xf8, 0x98, 0x11, 0x69, 0xd9, 0x8e, 0x94, 0x9b, 0x1e, 0x87, 0xe9, 0xce, 0x55, 0x28, 0xdf],\n",
    "        [0x8c, 0xa1, 0x89, 0x0d, 0xbf, 0xe6, 0x42, 0x68, 0x41, 0x99, 0x2d, 0x0f, 0xb0, 0x54, 0xbb, 0x16]\n",
    "]"
   ]
  },
  {
   "cell_type": "code",
   "execution_count": 8,
   "metadata": {},
   "outputs": [],
   "source": [
    "def s_box_lookup(rotc):\n",
    "    sbl = []\n",
    "    for h in rotc:\n",
    "        sbl.append(hex(s_box_values[int(h[0][0],16)][int(h[0][1],16)]))\n",
    "        \n",
    "    sbl = np.array(sbl)\n",
    "    sbl = sbl.reshape(4,1)\n",
    "    return sbl    \n",
    "     "
   ]
  },
  {
   "cell_type": "code",
   "execution_count": 583,
   "metadata": {},
   "outputs": [],
   "source": [
    "# def Generate_next_key(pkfc, sblc, inx):\n",
    "#     print(pkfc)\n",
    "#     print(sblc)\n",
    "#     r = round_constant[:,0]\n",
    "#     print(r)\n",
    "    \n",
    "#     ls = [[]]\n",
    "#     for i in range(0,4):\n",
    "#         c = hex(int(pkfc[i],16) ^ int(sblc[i],16) ^ int(r[i]))\n",
    "#         ls[j].append(c)\n",
    "#     for i in range(1,4):\n",
    "        \n",
    "        \n",
    "#     ls = np.array(ls)\n",
    "#     ls = np.transpose(ls)\n",
    "#     return ls    \n",
    "        "
   ]
  },
  {
   "cell_type": "code",
   "execution_count": 9,
   "metadata": {},
   "outputs": [],
   "source": [
    "def Generate_next_key(pk, sblc, rc):\n",
    "    r = round_constant[:,rc]\n",
    "    r = np.array(r)\n",
    "    r = r.reshape(4,1)\n",
    "    ls = []\n",
    "    pkfc = pk[:,0].reshape(4,1)\n",
    "   \n",
    "\n",
    "\n",
    "\n",
    "\n",
    "    result = list(hex(int(x[0],16)^int(y[0],16)^int(str(z[0]),16)) for x,y,z in zip(pkfc,sblc,r))\n",
    "    ls.append(result)\n",
    "    \n",
    "    for i in range(1,4):\n",
    "        pkfc = pk[:,i]\n",
    "        temp = list(hex(int(x,16)^int(y,16)) for x,y in zip(pkfc,result))\n",
    "        ls.append(temp)\n",
    "\n",
    "    \n",
    "    \n",
    "    ls = np.array(ls)\n",
    "    ls = np.transpose(ls)\n",
    "    return ls\n",
    "    \n",
    "\n",
    "    \n",
    "    \n",
    "    \n",
    "    \n",
    "    \n",
    "    \n",
    "    \n",
    "    "
   ]
  },
  {
   "cell_type": "code",
   "execution_count": 10,
   "metadata": {},
   "outputs": [],
   "source": [
    "def pad(a):\n",
    "    x = math.ceil(len(a)/16)\n",
    "    print(\"Number of 16 blocks\" , x)\n",
    "    p = len(a)%16\n",
    "    print(\"Number of paddings\" , p)\n",
    "    print(16-p)\n",
    "    if p!= 0:\n",
    "        a=a.ljust(len(a)+(16-p),'0')\n",
    "\n",
    "    return a\n",
    "\n",
    "    "
   ]
  },
  {
   "cell_type": "code",
   "execution_count": 11,
   "metadata": {},
   "outputs": [],
   "source": [
    "def Generate_Plain_State(a):\n",
    "    ls = []\n",
    "    result = []\n",
    "    for i in range(0,len(a), 4):\n",
    "        ls.append([hex(ord(a[i])), hex(ord(a[i+1])),hex(ord(a[i+2])),hex(ord(a[i+3]))])\n",
    "\n",
    "       \n",
    "    for i in range(0,len(ls),4):\n",
    "        result.append([[ls[i],ls[i+1],ls[i+2], ls[i+3]]])\n",
    "    result = np.array(result)\n",
    "    #result = np.transpose(result)\n",
    "    r = []\n",
    "    for i in result:\n",
    "        temp = np.transpose(i[0])\n",
    "        r.append(temp)\n",
    "    \n",
    "    r = np.array(r)\n",
    "    return r   \n",
    "   \n",
    "        "
   ]
  },
  {
   "cell_type": "code",
   "execution_count": null,
   "metadata": {},
   "outputs": [],
   "source": []
  },
  {
   "cell_type": "code",
   "execution_count": 12,
   "metadata": {},
   "outputs": [],
   "source": [
    "def Add_Round_Key(key,pt):\n",
    "    result = []\n",
    "    print( \" Passed key \\n\", key)\n",
    "    print(\"passed plain text \\n\",pt)\n",
    "    \n",
    "    for i in range(0,len(pt)):\n",
    "        for j in range(0,4):\n",
    "            kc = key[:,j]\n",
    "            ptc = pt[i][:,j]\n",
    "            result.append([hex(int(x,16)^int(y,16)) for x,y in zip(kc,ptc)])\n",
    "    result = np.array(result)\n",
    "    \n",
    "    result = result.reshape(len(pt),4,4)\n",
    "    rf = []\n",
    "\n",
    "\n",
    "  \n",
    "    for i in range(0,len(result)):\n",
    "        r = np.array(result[i])\n",
    "        r = np.transpose(r)\n",
    "        rf.append(r)\n",
    "        \n",
    "        \n",
    "        \n",
    "\n",
    "        \n",
    "\n",
    "    return rf\n",
    "   \n",
    "            \n",
    "    \n",
    "    \n",
    "    \n",
    "    \n",
    "    \n",
    "\n",
    "                \n",
    "    \n",
    "    \n",
    "    "
   ]
  },
  {
   "cell_type": "code",
   "execution_count": 13,
   "metadata": {},
   "outputs": [],
   "source": [
    "def sub_byte(state):\n",
    "    sbl = []\n",
    "    for i in range(0,4):\n",
    "        c = state[:,i]\n",
    "        for j in c:\n",
    "            if len(j)<4:\n",
    "                r = 0\n",
    "                c = int(j[2],16)\n",
    "            else:\n",
    "                r = int(j[2],16)\n",
    "                c = int(j[3],16)\n",
    "            sbl.append(hex(s_box_values[r][c]))\n",
    "\n",
    "\n",
    "    sbl = np.array(sbl)\n",
    "    sbl = sbl.reshape(4,4) \n",
    "    sbl = np.transpose(sbl)\n",
    "        #sbl.append(hex(s_box_values[int(h[0][0],16)][int(h[0][1],16)]))\n",
    "    print(sbl)    \n",
    "    return sbl    \n",
    "    \n",
    "\n",
    "    \n",
    "    "
   ]
  },
  {
   "cell_type": "code",
   "execution_count": 14,
   "metadata": {},
   "outputs": [],
   "source": [
    "def shift_rows(s):\n",
    "    temp10 = s[1][0]\n",
    "    s[1][0], s[1][1], s[1][2], s[1][3] = s[1][1], s[1][2], s[1][3], temp10\n",
    "    \n",
    "    temp20 = s[2][0]\n",
    "    temp21 = s[2][1]\n",
    "    \n",
    "    s[2][0], s[2][1], s[2][2], s[2][3] = s[2][2], s[2][3], temp20, temp21\n",
    "    \n",
    "    temp30 = s[3][0]\n",
    "    temp31 = s[3][1]\n",
    "    temp32 = s[3][2]\n",
    "    s[3][0], s[3][1], s[3][2], s[3][3] = s[3][3],temp30,temp31, temp32\n",
    "    return s"
   ]
  },
  {
   "cell_type": "code",
   "execution_count": 47,
   "metadata": {},
   "outputs": [],
   "source": [
    "def gmul(a, b):\n",
    "    if b == 1:\n",
    "        return a\n",
    "    tmp = (a << 1) & 0xff\n",
    "    if b == 2:\n",
    "        return tmp if a < 128 else tmp ^ 0x1b\n",
    "    if b == 3:\n",
    "        return gmul(a, 2) ^ a"
   ]
  },
  {
   "cell_type": "code",
   "execution_count": 48,
   "metadata": {},
   "outputs": [],
   "source": [
    "def mix_column(state):\n",
    "    mult_matrix = np.array([\n",
    "                   ['0x02', '0x03', '0x01', '0x01'],\n",
    "                   ['0x01', '0x02','0x03', '0x01'],\n",
    "                   ['0x01', '0x01', '0x02', '0x03'],\n",
    "                   ['0x03', '0x01', '0x01', '0x02'],\n",
    "                   ])\n",
    "    mc = []\n",
    "    for j in range(0,4):\n",
    "        c = state[:,j]\n",
    "        c = c.tolist()\n",
    "        print(\"c \\n\" , c)\n",
    "        for i in range(0,4):\n",
    "            m = mult_matrix[i,:]\n",
    "            #print(\"c \\n\",c)\n",
    "            print(\"m \\n\",m)\n",
    "            m = m.tolist()\n",
    "            t1 = []\n",
    "            for k in c:\n",
    "                t1.append(int(k,16))\n",
    "            t2 = []    \n",
    "            for k in m:\n",
    "                t2.append(int(k,16))\n",
    "            mc.append(hex( gmul(t1[0],t2[0]) ^ gmul(t1[1],t2[1]) ^ gmul(t1[2],t2[2]) ^ gmul(t1[3],t2[3])))    \n",
    "            \n",
    "                \n",
    "                \n",
    "            \n",
    "            \n",
    "            \n",
    "\n",
    "            #mc.append(hex( (int(c[0],16)*m[0]) ^ (int(c[1],16)*m[1]) ^ (int(c[2],16)*m[2]) ^ (int(c[3],16)*m[3])))\n",
    "    mc = np.array(mc)\n",
    "    mc = mc.reshape(4,4)\n",
    "    mc = np.transpose(mc)\n",
    "    \n",
    "    print(mc)  \n",
    "    return mc\n",
    "        \n",
    "        \n",
    "    \n",
    "        \n",
    "    "
   ]
  },
  {
   "cell_type": "code",
   "execution_count": 49,
   "metadata": {
    "scrolled": true
   },
   "outputs": [
    {
     "name": "stdout",
     "output_type": "stream",
     "text": [
      " Key_Generation \n",
      "b'382b094d9fc4f298ef9899260b2c078d'\n",
      "\n",
      "\n",
      "Generate_Key_State \n",
      "[['38' '9f' 'ef' '0b']\n",
      " ['2b' 'c4' '98' '2c']\n",
      " ['09' 'f2' '99' '07']\n",
      " ['4d' '98' '26' '8d']]\n",
      "\n",
      "\n",
      " Generate_subkey \n",
      "[['0b']\n",
      " ['2c']\n",
      " ['07']\n",
      " ['8d']]\n",
      "\n",
      "\n",
      " rotword \n",
      "[['2c']\n",
      " ['07']\n",
      " ['8d']\n",
      " ['0b']]\n",
      "\n",
      "\n",
      "s box lookup \n",
      "[['0x71']\n",
      " ['0xc5']\n",
      " ['0x5d']\n",
      " ['0x2b']]\n",
      "\n",
      "\n",
      " Generate_next_key \n",
      "[['0x48' '0xd7' '0xa7' '0x43']\n",
      " ['0xee' '0x2a' '0x76' '0xc2']\n",
      " ['0x54' '0xa6' '0xcd' '0x53']\n",
      " ['0x66' '0xfe' '0x40' '0xeb']]\n",
      "\n",
      "\n",
      "Number of 16 blocks 2\n",
      "Number of paddings 14\n",
      "2\n",
      "Padded string  abcdefghijklmnopqrstuvwxyzzzzz00\n",
      "\n",
      "\n",
      "Generated plain text state \n",
      "  [[['0x61' '0x65' '0x69' '0x6d']\n",
      "  ['0x62' '0x66' '0x6a' '0x6e']\n",
      "  ['0x63' '0x67' '0x6b' '0x6f']\n",
      "  ['0x64' '0x68' '0x6c' '0x70']]\n",
      "\n",
      " [['0x71' '0x75' '0x79' '0x7a']\n",
      "  ['0x72' '0x76' '0x7a' '0x7a']\n",
      "  ['0x73' '0x77' '0x7a' '0x30']\n",
      "  ['0x74' '0x78' '0x7a' '0x30']]]\n",
      "\n",
      "\n",
      " Passed key \n",
      " [['38' '9f' 'ef' '0b']\n",
      " ['2b' 'c4' '98' '2c']\n",
      " ['09' 'f2' '99' '07']\n",
      " ['4d' '98' '26' '8d']]\n",
      "passed plain text \n",
      " [[['0x61' '0x65' '0x69' '0x6d']\n",
      "  ['0x62' '0x66' '0x6a' '0x6e']\n",
      "  ['0x63' '0x67' '0x6b' '0x6f']\n",
      "  ['0x64' '0x68' '0x6c' '0x70']]\n",
      "\n",
      " [['0x71' '0x75' '0x79' '0x7a']\n",
      "  ['0x72' '0x76' '0x7a' '0x7a']\n",
      "  ['0x73' '0x77' '0x7a' '0x30']\n",
      "  ['0x74' '0x78' '0x7a' '0x30']]]\n",
      "Add Round Key \n",
      " [array([['0x59', '0xfa', '0x86', '0x66'],\n",
      "       ['0x49', '0xa2', '0xf2', '0x42'],\n",
      "       ['0x6a', '0x95', '0xf2', '0x68'],\n",
      "       ['0x29', '0xf0', '0x4a', '0xfd']], dtype='<U4'), array([['0x49', '0xea', '0x96', '0x71'],\n",
      "       ['0x59', '0xb2', '0xe2', '0x56'],\n",
      "       ['0x7a', '0x85', '0xe3', '0x37'],\n",
      "       ['0x39', '0xe0', '0x5c', '0xbd']], dtype='<U4')]\n",
      "\n",
      "\n",
      "[['0xcb' '0x2d' '0x44' '0x33']\n",
      " ['0x3b' '0x3a' '0x89' '0x2c']\n",
      " ['0x2' '0x2a' '0x89' '0x45']\n",
      " ['0xa5' '0x8c' '0xd6' '0x54']]\n",
      "sub byte \n",
      " [['0xcb' '0x2d' '0x44' '0x33']\n",
      " ['0x3b' '0x3a' '0x89' '0x2c']\n",
      " ['0x2' '0x2a' '0x89' '0x45']\n",
      " ['0xa5' '0x8c' '0xd6' '0x54']]\n",
      "\n",
      "\n",
      "shift  \n",
      " [['0xcb' '0x2d' '0x44' '0x33']\n",
      " ['0x3a' '0x89' '0x2c' '0x3b']\n",
      " ['0x89' '0x45' '0x2' '0x2a']\n",
      " ['0x54' '0xa5' '0x8c' '0xd6']]\n",
      "\n",
      "\n",
      "c \n",
      " ['0xd4', '0xf2', '0x7d', '0xda']\n",
      "m \n",
      " ['0x02' '0x03' '0x01' '0x01']\n",
      "m \n",
      " ['0x01' '0x02' '0x03' '0x01']\n",
      "m \n",
      " ['0x01' '0x01' '0x02' '0x03']\n",
      "m \n",
      " ['0x03' '0x01' '0x01' '0x02']\n",
      "c \n",
      " ['0xc9', '0x67', '0x10', '0x72']\n",
      "m \n",
      " ['0x02' '0x03' '0x01' '0x01']\n",
      "m \n",
      " ['0x01' '0x02' '0x03' '0x01']\n",
      "m \n",
      " ['0x01' '0x01' '0x02' '0x03']\n",
      "m \n",
      " ['0x03' '0x01' '0x01' '0x02']\n",
      "c \n",
      " ['0x72', '0x21', '0xc9', '0xf0']\n",
      "m \n",
      " ['0x02' '0x03' '0x01' '0x01']\n",
      "m \n",
      " ['0x01' '0x02' '0x03' '0x01']\n",
      "m \n",
      " ['0x01' '0x01' '0x02' '0x03']\n",
      "m \n",
      " ['0x03' '0x01' '0x01' '0x02']\n",
      "c \n",
      " ['0x4d', '0x63', '0x67', '0x72']\n",
      "m \n",
      " ['0x02' '0x03' '0x01' '0x01']\n",
      "m \n",
      " ['0x01' '0x02' '0x03' '0x01']\n",
      "m \n",
      " ['0x01' '0x01' '0x02' '0x03']\n",
      "m \n",
      " ['0x03' '0x01' '0x01' '0x02']\n",
      "[['0x19' '0x42' '0xbe' '0x2a']\n",
      " ['0x76' '0x45' '0x80' '0x50']\n",
      " ['0xa9' '0x18' '0xd1' '0x76']\n",
      " ['0x47' '0xd3' '0x85' '0x37']]\n",
      "Mix Column \n",
      " [['0x19' '0x42' '0xbe' '0x2a']\n",
      " ['0x76' '0x45' '0x80' '0x50']\n",
      " ['0xa9' '0x18' '0xd1' '0x76']\n",
      " ['0x47' '0xd3' '0x85' '0x37']]\n",
      "\n",
      "\n"
     ]
    }
   ],
   "source": [
    "k = Key_Generation(16)\n",
    "print(\" Key_Generation \\n\" + str(k))\n",
    "print(\"\\n\")\n",
    "ks = Generate_Key_State(k)\n",
    "print(\"Generate_Key_State \\n\"+str(ks))\n",
    "print(\"\\n\")\n",
    "lc = Generate_subkey(ks)\n",
    "print(\" Generate_subkey \\n\"+str(lc))\n",
    "print(\"\\n\")\n",
    "r = rotword(lc)\n",
    "print(\" rotword \\n\"+str(r))\n",
    "print(\"\\n\")\n",
    "sbl = s_box_lookup(r)\n",
    "print(\"s box lookup \\n\" + str(sbl))\n",
    "print(\"\\n\")\n",
    "nxt = Generate_next_key(ks,sbl,0)\n",
    "print(\" Generate_next_key \\n\" + str(nxt))\n",
    "print(\"\\n\")\n",
    "a = pad(\"abcdefghijklmnopqrstuvwxyzzzzz\")\n",
    "print(\"Padded string \" ,a)\n",
    "print(\"\\n\")\n",
    "c = Generate_Plain_State(a)\n",
    "\n",
    "print(\"Generated plain text state \\n \", c)\n",
    "print(\"\\n\")\n",
    "\n",
    "rc = Add_Round_Key(ks,c)\n",
    "print(\"Add Round Key \\n\" , rc)\n",
    "print(\"\\n\")\n",
    "\n",
    "sb1 = sub_byte(rc[0])\n",
    "print(\"sub byte \\n\" , sb1)\n",
    "print(\"\\n\")\n",
    "\n",
    "sf = shift_rows(sb1)\n",
    "print(\"shift  \\n\" , sf)\n",
    "print(\"\\n\")\n",
    "temp = np.array([\n",
    "        ['0xd4','0xc9','0x72','0x4d'],\n",
    "        ['0xf2','0x67','0x21','0x63'],\n",
    "        ['0x7d','0x10','0xc9','0x67'],\n",
    "        ['0xda','0x72','0xf0','0x72'],\n",
    "       ])\n",
    "mc = mix_column(temp)\n",
    "print(\"Mix Column \\n\", mc)\n",
    "print(\"\\n\")\n"
   ]
  },
  {
   "cell_type": "code",
   "execution_count": 34,
   "metadata": {},
   "outputs": [],
   "source": [
    "g = ['0xd4', '0xf2', '0x7d', '0xda']\n",
    "h = ['0x01','0x02' ,'0x03', '0x01']\n",
    "s = []\n",
    "for x,y in zip(g,h):\n",
    "    x = int(x,16)\n",
    "    y = int(y,16)\n",
    "    s.append(x*y)\n",
    " "
   ]
  },
  {
   "cell_type": "code",
   "execution_count": 36,
   "metadata": {},
   "outputs": [
    {
     "name": "stdout",
     "output_type": "stream",
     "text": [
      "157\n"
     ]
    }
   ],
   "source": [
    "print((s[0] ^ s[1] ^ s[2] ^ s[3]))"
   ]
  },
  {
   "cell_type": "code",
   "execution_count": 705,
   "metadata": {},
   "outputs": [
    {
     "data": {
      "text/plain": [
       "'0x5c'"
      ]
     },
     "execution_count": 705,
     "metadata": {},
     "output_type": "execute_result"
    }
   ],
   "source": [
    "hex(int('0x3f',16)^int('0x63',16)^int('0x0',16))"
   ]
  },
  {
   "cell_type": "code",
   "execution_count": 431,
   "metadata": {},
   "outputs": [
    {
     "data": {
      "text/plain": [
       "[[1, 2, 4, 8, 16, 32, 64, 128, 27, 54],\n",
       " [0, 0, 0, 0, 0, 0, 0, 0, 0, 0],\n",
       " [0, 0, 0, 0, 0, 0, 0, 0, 0, 0],\n",
       " [0, 0, 0, 0, 0, 0, 0, 0, 0, 0]]"
      ]
     },
     "execution_count": 431,
     "metadata": {},
     "output_type": "execute_result"
    }
   ],
   "source": [
    "round_constant"
   ]
  },
  {
   "cell_type": "code",
   "execution_count": 434,
   "metadata": {},
   "outputs": [],
   "source": [
    "def rotword(last_column):\n",
    "    rot = last_column[1:]\n",
    "    rot.append(last_column[0])\n",
    "    rot = np.array(rot)\n",
    "    return rot\n",
    "    \n",
    "    \n",
    "    \n",
    "    \n",
    "    "
   ]
  },
  {
   "cell_type": "code",
   "execution_count": 484,
   "metadata": {},
   "outputs": [
    {
     "name": "stdout",
     "output_type": "stream",
     "text": [
      "[211, 35]\n"
     ]
    }
   ],
   "source": [
    "l = [0xd3, 0x23]\n",
    "l = [int(i) for i in l]\n",
    "print(l)"
   ]
  },
  {
   "cell_type": "code",
   "execution_count": 414,
   "metadata": {},
   "outputs": [
    {
     "data": {
      "text/plain": [
       "<function __main__.Generate_subkey(prev_key)>"
      ]
     },
     "execution_count": 414,
     "metadata": {},
     "output_type": "execute_result"
    }
   ],
   "source": [
    "Generate_subkey"
   ]
  },
  {
   "cell_type": "code",
   "execution_count": 377,
   "metadata": {},
   "outputs": [
    {
     "name": "stdout",
     "output_type": "stream",
     "text": [
      "b'4ec43f5c2549b6d2f045a7c48b9a6405'\n",
      "4ec43f5c2549b6d2f045a7c48b9a6405\n",
      "4e\n",
      "c4\n",
      "3f\n",
      "5c\n",
      "25\n",
      "49\n",
      "b6\n",
      "d2\n",
      "f0\n",
      "45\n",
      "a7\n",
      "c4\n",
      "8b\n",
      "9a\n",
      "64\n",
      "05\n",
      "[['4e' 'c4' '3f' '5c']\n",
      " ['25' '49' 'b6' 'd2']\n",
      " ['f0' '45' 'a7' 'c4']\n",
      " ['8b' '9a' '64' '05']]\n",
      "[['4e' '25' 'f0' '8b']\n",
      " ['c4' '49' '45' '9a']\n",
      " ['3f' 'b6' 'a7' '64']\n",
      " ['5c' 'd2' 'c4' '05']]\n"
     ]
    }
   ],
   "source": [
    "key = Key_Generation(16)\n",
    "print(key)\n",
    "s = str(key)\n",
    "s = s[2:-1]\n",
    "ls = []\n",
    "print(s)\n",
    "for i in range(0,len(s),2):\n",
    "    print(s[i] + s[i+1])\n",
    "    ls.append(s[i] + s[i+1])\n",
    "ls\n",
    "res = np.array(ls).reshape(4,4)\n",
    "print(res)\n",
    "res = np.transpose(res)\n",
    "print(res)"
   ]
  },
  {
   "cell_type": "code",
   "execution_count": null,
   "metadata": {},
   "outputs": [],
   "source": []
  },
  {
   "cell_type": "code",
   "execution_count": 376,
   "metadata": {},
   "outputs": [
    {
     "name": "stdout",
     "output_type": "stream",
     "text": [
      "_`3a<|F\n",
      "b'_\\x7f`3a<|F'\n",
      "b'\\x00\\x00\\x00\\x00\\x00\\x00\\x00\\x00\\x00\\x00\\x00\\x00\\x00\\x00\\x00\\x00'\n"
     ]
    }
   ],
   "source": [
    "a = \"\"\n",
    "for i in range(8):\n",
    "    a = a + chr(random.randint(33,127))\n",
    "print(a)  \n",
    "b = bytes(a,\"utf-8\")\n",
    "print(b)\n",
    "print(bytes(16))\n",
    "\n",
    "   "
   ]
  },
  {
   "cell_type": "code",
   "execution_count": null,
   "metadata": {},
   "outputs": [],
   "source": []
  },
  {
   "cell_type": "code",
   "execution_count": 29,
   "metadata": {},
   "outputs": [],
   "source": []
  },
  {
   "cell_type": "code",
   "execution_count": 127,
   "metadata": {},
   "outputs": [
    {
     "name": "stdout",
     "output_type": "stream",
     "text": [
      "NV4IwzH+qV9A/09RVYB2Hw==\n",
      "b'X-\\xb4\\x1bm\\xfaE\\x07\\xee\\xbf\\xca\\xee\\x0c0]\\x81\\xb8\\x16\\x85n'\n"
     ]
    }
   ],
   "source": [
    "rnd = os.urandom(16)\n",
    "rnd\n",
    "c= str(os.urandom(20))\n",
    "b=b64encode(rnd).decode('utf-8')\n",
    "print(b)\n",
    "print(c)"
   ]
  },
  {
   "cell_type": "code",
   "execution_count": 58,
   "metadata": {},
   "outputs": [
    {
     "name": "stdout",
     "output_type": "stream",
     "text": [
      "50\n",
      "Number of 16 blocks 4\n",
      "Number of paddings 2\n",
      "14\n",
      "My Name Is Prathamesh Ravindra Tayade I am 21 Year00000000000000\n"
     ]
    },
    {
     "data": {
      "text/plain": [
       "64"
      ]
     },
     "execution_count": 58,
     "metadata": {},
     "output_type": "execute_result"
    }
   ],
   "source": [
    "import math\n",
    "a = \"My Name Is Prathamesh Ravindra Tayade I am 21 Year\"\n",
    "\n",
    "print(len(a))\n",
    "\n",
    "x = math.ceil(len(a)/16)\n",
    "print(\"Number of 16 blocks\" , x)\n",
    "\n",
    "p = len(a)%16\n",
    "print(\"Number of paddings\" , p)\n",
    "\n",
    "print(16-p)\n",
    "if p!= 0:\n",
    "    a=a.ljust(len(a)+(16-p),'0')\n",
    "print(a)\n",
    "len(a)\n",
    "\n",
    "    \n",
    "    \n",
    "    \n",
    "                \n",
    "    "
   ]
  }
 ],
 "metadata": {
  "kernelspec": {
   "display_name": "Python 3",
   "language": "python",
   "name": "python3"
  },
  "language_info": {
   "codemirror_mode": {
    "name": "ipython",
    "version": 3
   },
   "file_extension": ".py",
   "mimetype": "text/x-python",
   "name": "python",
   "nbconvert_exporter": "python",
   "pygments_lexer": "ipython3",
   "version": "3.8.3"
  }
 },
 "nbformat": 4,
 "nbformat_minor": 4
}
