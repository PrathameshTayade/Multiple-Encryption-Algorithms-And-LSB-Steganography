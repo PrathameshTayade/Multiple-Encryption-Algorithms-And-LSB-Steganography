{
 "cells": [
  {
   "cell_type": "code",
   "execution_count": 1,
   "metadata": {},
   "outputs": [],
   "source": [
    "import numpy as np\n",
    "import random\n",
    "from skimage.io import imread,imshow,imsave\n",
    "import pathlib\n",
    "import pandas as pd"
   ]
  },
  {
   "cell_type": "code",
   "execution_count": 13,
   "metadata": {},
   "outputs": [],
   "source": [
    "def encode(coverimg, data):\n",
    "    \n",
    "    \n",
    "    img = imread(coverimg)\n",
    "    startpoint = random.randint(0,img.shape[0] * img.shape[1] - 5*8*8)\n",
    "    endpoint   =  startpoint + len(data) * 8\n",
    "    linearimage = img.reshape(img.shape[0] * img.shape[1], img.shape[2])\n",
    "\n",
    "    bt = \"\".join([bin(ord(i))[2:].zfill(8) for i in data])\n",
    "    rorgorb = random.randint(0,3)\n",
    "    \n",
    "    for i,bit in zip(range(startpoint,endpoint+1),bt):    \n",
    "        if bit == \"0\" and linearimage[i][rorgorb]&1==1:\n",
    "            linearimage[i][rorgorb] = linearimage[i][rorgorb]-1\n",
    "        elif bit == \"1\" and linearimage[i][rorgorb]&1==0:\n",
    "            linearimage[i][rorgorb] = linearimage[i][rorgorb]+1\n",
    "            \n",
    "  \n",
    "    stegoimg = linearimage.reshape(img.shape[0],img.shape[1], img.shape[2])\n",
    "    ext = pathlib.Path(coverimg).suffix\n",
    "    imsave(\"stegoimg\" + ext, stegoimg)\n",
    "    \n",
    "    return startpoint,endpoint,rorgorb\n",
    "    \n",
    "    \n",
    "  \n",
    "        \n",
    "    \n",
    "    \n",
    "    \n",
    "    "
   ]
  },
  {
   "cell_type": "code",
   "execution_count": 14,
   "metadata": {},
   "outputs": [],
   "source": [
    "def decode(stegoimage, startpoint,endpoint,rorborg):\n",
    "    \n",
    "    img = imread(stegoimage)\n",
    "    linearimage = img.reshape(img.shape[0]*img.shape[1],img.shape[2])\n",
    "    result = \"\"\n",
    "    bitstring = \"\"\n",
    "    count = 0\n",
    "    for pixle in range(startpoint,endpoint+1):\n",
    "        \n",
    "        \n",
    "        if count == 8:\n",
    "            \n",
    "            result = result+ chr(int(bitstring,2))\n",
    "            count = 0\n",
    "            bitstring = \"\"\n",
    "        if linearimage[pixle][rorgorb]&1:\n",
    "            bitstring = bitstring + '1'\n",
    "        else :\n",
    "            bitstring = bitstring + '0'\n",
    "        count = count + 1 \n",
    "        \n",
    "    return result\n",
    "    \n",
    "    \n",
    "    \n",
    "    "
   ]
  },
  {
   "cell_type": "code",
   "execution_count": 25,
   "metadata": {},
   "outputs": [
    {
     "name": "stderr",
     "output_type": "stream",
     "text": [
      "<ipython-input-13-c17c8f321f22>:21: UserWarning: stegoimg.png is a low contrast image\n",
      "  imsave(\"stegoimg\" + ext, stegoimg)\n"
     ]
    }
   ],
   "source": [
    "start,end,rorgorb = encode(\"white.png\", \"af kalslfkasl kfdls kjflaskjfckmafcjvfkaslfjlscjlsajfklsf\")\n"
   ]
  },
  {
   "cell_type": "code",
   "execution_count": 26,
   "metadata": {},
   "outputs": [
    {
     "data": {
      "text/plain": [
       "'af kalslfkasl kfdls kjflaskjfckmafcjvfkaslfjlscjlsajfklsf'"
      ]
     },
     "execution_count": 26,
     "metadata": {},
     "output_type": "execute_result"
    }
   ],
   "source": [
    "decode(\"stegoimg.png\",start,end,rorgorb)"
   ]
  },
  {
   "cell_type": "code",
   "execution_count": null,
   "metadata": {},
   "outputs": [],
   "source": []
  },
  {
   "cell_type": "code",
   "execution_count": null,
   "metadata": {},
   "outputs": [],
   "source": []
  }
 ],
 "metadata": {
  "kernelspec": {
   "display_name": "Python 3",
   "language": "python",
   "name": "python3"
  },
  "language_info": {
   "codemirror_mode": {
    "name": "ipython",
    "version": 3
   },
   "file_extension": ".py",
   "mimetype": "text/x-python",
   "name": "python",
   "nbconvert_exporter": "python",
   "pygments_lexer": "ipython3",
   "version": "3.8.3"
  }
 },
 "nbformat": 4,
 "nbformat_minor": 4
}
